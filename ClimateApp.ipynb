{
 "cells": [
  {
   "cell_type": "markdown",
   "metadata": {},
   "source": [
    "## Step 2 - Climate App"
   ]
  },
  {
   "cell_type": "code",
   "execution_count": 1,
   "metadata": {},
   "outputs": [],
   "source": [
    "# Now that you have completed your initial analysis, design a Flask API based on the queries that you have just developed."
   ]
  },
  {
   "cell_type": "code",
   "execution_count": 2,
   "metadata": {},
   "outputs": [],
   "source": [
    "# •••••••••••••••••••••••••••••••••••••••••••• Dependencies & Flask Setup ••••••••••••••••••••••••••••••••••••••••••••••••••• #\n",
    "\n",
    "import datetime as dt\n",
    "import numpy as np\n",
    "import pandas as pd\n",
    "import sqlalchemy\n",
    "from sqlalchemy.ext.automap import automap_base\n",
    "from sqlalchemy.orm import Session\n",
    "from sqlalchemy import create_engine, func\n",
    "from flask import Flask, jsonify\n",
    "\n",
    "app = Flask(__name__)"
   ]
  },
  {
   "cell_type": "code",
   "execution_count": 3,
   "metadata": {},
   "outputs": [],
   "source": [
    "# Use FLASK to create your routes, home page, and available routes\n",
    "@app.route(\"/\")\n",
    "def home():\n",
    "    \"\"\"Greetings. Here is a list of available API routes\"\"\"\n",
    "    return(\n",
    "        f\"Available Routes: <br/>\"\n",
    "        f\"/api/v1.0/precipitation <br/>\"\n",
    "        f\"/api/v1.0/stations <br/>\"\n",
    "        f\"/api/v1.0/tobs <br/>\"\n",
    "        f\"/api/v1.0/<start><br/>\"\n",
    "        f\"/api/v1.0/<start>/<end>\"\n",
    "    )"
   ]
  },
  {
   "cell_type": "markdown",
   "metadata": {},
   "source": [
    "### Precipitation Route"
   ]
  },
  {
   "cell_type": "code",
   "execution_count": 4,
   "metadata": {},
   "outputs": [],
   "source": [
    "#   * Convert the query results to a Dictionary using `date` as the key and `prcp` as the value.\n",
    "#   * Return the JSON representation of your dictionary.\n",
    "@app.route(\"/api/v1.0/precipitation\")\n",
    "def precipitation():\n",
    "    \"\"\"Date & Temp Query for 2017\"\"\"\n",
    "    precip = session.query(Measurement.date, Measurement.tobs).\\\n",
    "    filter(Measurement.date >= '2017-01-01').all()\n",
    "    preciplist = []\n",
    "    for precip in precip:\n",
    "        precipdict = {}\n",
    "        precipdict[\"Date\"] = Measurement.date\n",
    "        precipdict[\"TOBS\"] = Measurement.tobs\n",
    "        precip.append(precipdict)\n",
    "    return jsonify(precip)"
   ]
  },
  {
   "cell_type": "markdown",
   "metadata": {},
   "source": [
    "### Station Route"
   ]
  },
  {
   "cell_type": "code",
   "execution_count": 5,
   "metadata": {},
   "outputs": [],
   "source": [
    "#   * Return a JSON list of stations from the dataset.\n",
    "@app.route(\"/api/v1.0/stations\")\n",
    "def stations():\n",
    "    \"\"\"Returns a JSON list of station from the dataset\"\"\"\n",
    "    \n",
    "    stashres = session.query(Station.station).all()\n",
    "    allstash = list(np.ravel(station_results))\n",
    "    \n",
    "    return jsonify(allstash)"
   ]
  },
  {
   "cell_type": "markdown",
   "metadata": {},
   "source": [
    "### Tobs Route"
   ]
  },
  {
   "cell_type": "code",
   "execution_count": 6,
   "metadata": {},
   "outputs": [],
   "source": [
    "#   * query for the dates and temperature observations from a year from the last data point.\n",
    "#   * Return a JSON list of Temperature Observations (tobs) for the previous year.\n",
    "@app.route(\"/api/v1.0/tobs\")\n",
    "def tobs():\n",
    "    \"\"\"Returns a JSON list of temperature observations (TOBS) from 2017\"\"\"\n",
    "\n",
    "    tobsres = session.query(Measurement.tobs).filter(Measurement.date >= '2017-01-01').all()\n",
    "    alltobs = list(np.ravel(tobsres))\n",
    "    \n",
    "    return jsonify(alltobs)"
   ]
  },
  {
   "cell_type": "markdown",
   "metadata": {},
   "source": [
    "### Start/End Date Routes"
   ]
  },
  {
   "cell_type": "code",
   "execution_count": 7,
   "metadata": {},
   "outputs": [
    {
     "name": "stdout",
     "output_type": "stream",
     "text": [
      " * Serving Flask app \"__main__\" (lazy loading)\n",
      " * Environment: production\n",
      "   WARNING: Do not use the development server in a production environment.\n",
      "   Use a production WSGI server instead.\n",
      " * Debug mode: on\n"
     ]
    },
    {
     "name": "stderr",
     "output_type": "stream",
     "text": [
      " * Restarting with stat\n"
     ]
    },
    {
     "ename": "SystemExit",
     "evalue": "1",
     "output_type": "error",
     "traceback": [
      "An exception has occurred, use %tb to see the full traceback.\n",
      "\u001b[1;31mSystemExit\u001b[0m\u001b[1;31m:\u001b[0m 1\n"
     ]
    },
    {
     "name": "stderr",
     "output_type": "stream",
     "text": [
      "C:\\Users\\janac\\Anaconda3\\lib\\site-packages\\IPython\\core\\interactiveshell.py:3275: UserWarning: To exit: use 'exit', 'quit', or Ctrl-D.\n",
      "  warn(\"To exit: use 'exit', 'quit', or Ctrl-D.\", stacklevel=1)\n"
     ]
    }
   ],
   "source": [
    "#   * Return a JSON list of the min temp, the av temp, and the max temp for a given start or start-end range.\n",
    "#   * When given the start only, calculate `TMIN`, `TAVG`, and `TMAX` for all dates greater than and equal to the start date.\n",
    "#   * When given the start and the end date, calculate the `TMIN`, `TAVG`, and `TMAX` for dates b/t start/end date inclusive.\n",
    "@app.route(\"/api/v1.0/calc_temps/<start>\")\n",
    "\n",
    "def calc_temps(start='startdt'):\n",
    "    \"\"\"Calculations for all dates greater >= start date, using only start date\"\"\"\n",
    "    \n",
    "    startdt = datetime.strptime('2017-01-01', '%Y-%m-%d').date()\n",
    "    startres = session.query(func.max(Measurement.tobs), \\\n",
    "                            func.min(Measurement.tobs),\\\n",
    "                            func.avg(Measurement.tobs)).\\\n",
    "                            filter(Measurement.date >= start_date) \n",
    "    \n",
    "    sttobs = []\n",
    "    for tobs in startres:\n",
    "        tobs_dict = {}\n",
    "        tobs_dict[\"TAVG\"] = float(tobs[2])\n",
    "        tobs_dict[\"TMAX\"] = float(tobs[0])\n",
    "        tobs_dict[\"TMIN\"] = float(tobs[1])\n",
    "        \n",
    "        sttobs.append(tobs_dict)\n",
    "\n",
    "    return jsonify(sttobs)\n",
    "\n",
    "@app.route(\"/api/v1.0/calc_temps/<start>/<end>\")\n",
    "\n",
    "def calc_temps_2(start='start_date', end='end_date'):  \n",
    "    \"\"\"Calculations for values between start and end dates\"\"\"\n",
    "    \n",
    "    startdt = datetime.strptime('2017-01-01', '%Y-%m-%d').date()\n",
    "    enddt = datetime.strptime('2017-12-31', '%Y-%m-%d').date()\n",
    "\n",
    "    stendres=session.query(func.max(Measurement.tobs).label(\"max_tobs\"), \\\n",
    "                      func.min(Measurement.tobs).label(\"min_tobs\"),\\\n",
    "                      func.avg(Measurement.tobs).label(\"avg_tobs\")).\\\n",
    "                      filter(Measurement.date.between(start_date , end_date))   \n",
    "\n",
    "    stendtobs = []\n",
    "    for tobs in stendres:\n",
    "        tobs_dict = {}\n",
    "        tobs_dict[\"TAVG\"] = float(tobs[2])\n",
    "        tobs_dict[\"TMAX\"] = float(tobs[0])\n",
    "        tobs_dict[\"TMIN\"] = float(tobs[1])\n",
    "\n",
    "        stendtobs.append(tobs_dict)\n",
    "    \n",
    "    return jsonify(stendtobs)\n",
    "\n",
    "if __name__ == '__main__':\n",
    "    app.run(debug=True)"
   ]
  }
 ],
 "metadata": {
  "kernelspec": {
   "display_name": "Python 3",
   "language": "python",
   "name": "python3"
  },
  "language_info": {
   "codemirror_mode": {
    "name": "ipython",
    "version": 3
   },
   "file_extension": ".py",
   "mimetype": "text/x-python",
   "name": "python",
   "nbconvert_exporter": "python",
   "pygments_lexer": "ipython3",
   "version": "3.7.1"
  }
 },
 "nbformat": 4,
 "nbformat_minor": 2
}
